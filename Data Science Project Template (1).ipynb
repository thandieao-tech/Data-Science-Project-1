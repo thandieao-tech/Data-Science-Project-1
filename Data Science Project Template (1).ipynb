{
 "cells": [
  {
   "cell_type": "markdown",
   "metadata": {},
   "source": [
    "## CS 2064: Thandie Anim-Offei\n",
    "\n",
    "### Data Science Research questions\n",
    "1. What makeup materials in Maybelline are the most expensive? Which are the cheapest?(API)\n",
    "2. What are the differences in percentage of twitter conversations? (Webscarping)\n",
    "3. In 2005, what are the difference in Virginia SAT scores between the highest and lowest income students? (Direct Download)\n",
    "\n",
    "### Sources\n",
    "- Mabelline products, http://makeup-api.herokuapp.com/api/v1/products.json?brand=maybelline\n",
    "- Twitters Wikipedia, https://en.wikipedia.org/wiki/Twitter#Revenue_sources\n",
    "- School scores, https://corgis-edu.github.io/corgis/python/school_scores/\n"
   ]
  },
  {
   "cell_type": "code",
   "execution_count": 20,
   "metadata": {},
   "outputs": [],
   "source": [
    "'''Imports and Utility Functions'''\n",
    "import time\n",
    "import requests\n"
   ]
  },
  {
   "cell_type": "code",
   "execution_count": 21,
   "metadata": {},
   "outputs": [
    {
     "name": "stdout",
     "output_type": "stream",
     "text": [
      "200\n",
      "\n",
      "The most expensive item is foundation with an average price of 14.08\n",
      "The cheapest item is nail polish with an average price of 4.49\n"
     ]
    }
   ],
   "source": [
    "'''Public API: Your findings'''\n",
    "url = f\"http://makeup-api.herokuapp.com/api/v1/products.json?brand=maybelline\"\n",
    "response = requests.get(url)\n",
    "jsonData = response.json()\n",
    "print(response.status_code)\n",
    "print()\n",
    "\n",
    "\n",
    "bronzer_count = 0\n",
    "bPrice = 0\n",
    "blush_count = 0\n",
    "blPrice = 0\n",
    "lip_liner_count = 0\n",
    "llPrice = 0\n",
    "foundation_count = 0\n",
    "fPrice = 0\n",
    "eyeshadow_count = 0\n",
    "esPrice = 0\n",
    "eyeliner_count = 0\n",
    "elPrice = 0\n",
    "nail_polish_count = 0\n",
    "nPrice = 0\n",
    "lipstick_count = 0\n",
    "lsPrice = 0\n",
    "mascara_count = 0\n",
    "mPrice = 0\n",
    "\n",
    "for i in range(0,54):\n",
    "    if 'bronzer' == jsonData[i]['product_type']:\n",
    "        bronzer_count += 1\n",
    "        bPrice += float(jsonData[i]['price'])\n",
    "    if 'blush' == jsonData[i]['product_type']:\n",
    "        blush_count += 1\n",
    "        blPrice += float(jsonData[i]['price'])\n",
    "    if 'lip_liner' == jsonData[i]['product_type']:\n",
    "        lip_liner_count += 1\n",
    "        llPrice += float(jsonData[i]['price'])\n",
    "    if 'foundation' == jsonData[i]['product_type']:\n",
    "        foundation_count += 1\n",
    "        fPrice += float(jsonData[i]['price'])\n",
    "    if 'eyeshadow' == jsonData[i]['product_type']:\n",
    "        eyeshadow_count += 1\n",
    "        esPrice += float(jsonData[i]['price'])\n",
    "    if 'eyeliner' == jsonData[i]['product_type']:\n",
    "        eyeliner_count += 1\n",
    "        elPrice += float(jsonData[i]['price'])\n",
    "    if 'nail_polish' == jsonData[i]['product_type']:\n",
    "        nail_polish_count += 1\n",
    "        nPrice += float(jsonData[i]['price'])\n",
    "    if 'lipstick' == jsonData[i]['product_type']:\n",
    "        lipstick_count += 1\n",
    "        lsPrice += float(jsonData[i]['price'])\n",
    "    if 'mascara' == jsonData[i]['product_type']:\n",
    "        mascara_count += 1\n",
    "        mPrice += float(jsonData[i]['price'])\n",
    "\n",
    "bAVG = round(bPrice/bronzer_count, 2)\n",
    "blAVG = round(blPrice/blush_count, 2)\n",
    "llAVG = round(llPrice/lip_liner_count, 2)\n",
    "fAVG = round(fPrice/foundation_count, 2)\n",
    "esAVG = round(esPrice/eyeshadow_count, 2)\n",
    "elAVG = round(elPrice/eyeliner_count, 2)\n",
    "nAVG = round(nPrice/nail_polish_count, 2)\n",
    "lsAVG = round(lsPrice/lipstick_count, 2)\n",
    "mAVG = round(mPrice/mascara_count, 2)\n",
    "\n",
    "avg_list = [bAVG, blAVG, llAVG, fAVG, esAVG, elAVG, nAVG, lsAVG, mAVG]\n",
    "\n",
    "expensive = max(avg_list)\n",
    "cheap = min(avg_list)\n",
    "\n",
    "\n",
    "if expensive == bAVG:\n",
    "    print(\"The most expensive item is bronzer with an average price of \" + str(bAVG))\n",
    "if cheap == bAVG:\n",
    "    print(\"The cheapest item is bronzer with an average price of \" + str(bAVG))\n",
    "if expensive == llAVG:\n",
    "    print(\"The most expensive item is lip liner with an average price of \" + str(llAVG))\n",
    "if cheap == llAVG:\n",
    "    print(\"The cheapest item is lip liner with an average price of \" + str(llAVG))\n",
    "if expensive == fAVG:\n",
    "    print(\"The most expensive item is foundation with an average price of \" + str(fAVG))\n",
    "if cheap == fAVG:\n",
    "    print(\"The cheapest item is foundation with an average price of \" + str(fAVG))\n",
    "if expensive == esAVG:\n",
    "    print(\"The most expensive item is eyeshadow with an average price of \" + str(esAVG))\n",
    "if cheap == esAVG:\n",
    "    print(\"The cheapest item is eyeshadow with an average price of \" + str(esAVG))\n",
    "if expensive == elAVG:\n",
    "    print(\"The most expensive item is eyeliner with an average price of \" + str(elAVG))\n",
    "if cheap == elAVG:\n",
    "    print(\"The cheapest item is eyeliner with an average price of \" + str(elAVG))\n",
    "if expensive == nAVG:\n",
    "    print(\"The most expensive item is nail polish with an average price of \" + str(nAVG))\n",
    "if cheap == nAVG:\n",
    "    print(\"The cheapest item is nail polish with an average price of \" + str(nAVG))\n",
    "if expensive == lsAVG:\n",
    "    print(\"The most expensive item is lipstick with an average price of \" + str(lsAVG))\n",
    "if cheap == lsAVG:\n",
    "    print(\"The cheapest item is lipstick with an average price of \" + str(lsAVG))\n",
    "if expensive == mAVG:\n",
    "    print(\"The most expensive item is mascara with an average price of \" + str(mAVG))\n",
    "if cheap == mAVG:\n",
    "    print(\"The cheapest item is mascara with an average price of \" + str(mAVG))\n",
    "    "
   ]
  },
  {
   "cell_type": "code",
   "execution_count": 22,
   "metadata": {},
   "outputs": [
    {
     "name": "stdout",
     "output_type": "stream",
     "text": [
      "200\n",
      "From the website titled soup.title=<title>Twitter - Wikipedia</title>\n",
      "\n",
      "Content of tweets according to Pear Analytics in August 2009News (3.6%)Spam (3.8%)Self-promotion (6%)Pointless babble (40%)Conversational (38%)Pass-along value (8.7%)\n"
     ]
    }
   ],
   "source": [
    "''' Web Scraping: your findings '''\n",
    "from bs4 import BeautifulSoup\n",
    "\n",
    "url = 'https://en.wikipedia.org/wiki/Twitter#Revenue_sources'\n",
    "response = requests.get(url)\n",
    "print(response.status_code)\n",
    "soup = BeautifulSoup(response.content, 'html.parser')\n",
    "\n",
    "print(\"From the website titled \" + f\"{soup.title=}\")\n",
    "print()\n",
    "\n",
    "captions = soup.findAll(\"figcaption\")\n",
    "\n",
    "for caption in captions:\n",
    "    caption_text = caption.get_text(strip=True)\n",
    "    if \"Content of tweets according to Pear Analytics in August 2009\" in caption_text:\n",
    "        print(caption_text)"
   ]
  },
  {
   "cell_type": "code",
   "execution_count": 1,
   "metadata": {},
   "outputs": [
    {
     "ename": "ModuleNotFoundError",
     "evalue": "No module named 'school_scores'",
     "output_type": "error",
     "traceback": [
      "\u001b[1;31m---------------------------------------------------------------------------\u001b[0m",
      "\u001b[1;31mModuleNotFoundError\u001b[0m                       Traceback (most recent call last)",
      "Cell \u001b[1;32mIn[1], line 2\u001b[0m\n\u001b[0;32m      1\u001b[0m \u001b[38;5;124;03m''' Direct Download: your findings '''\u001b[39;00m\n\u001b[1;32m----> 2\u001b[0m \u001b[38;5;28;01mimport\u001b[39;00m \u001b[38;5;21;01mschool_scores\u001b[39;00m\n\u001b[0;32m      3\u001b[0m record \u001b[38;5;241m=\u001b[39m school_scores\u001b[38;5;241m.\u001b[39mget_record()\n\u001b[0;32m      5\u001b[0m vCount \u001b[38;5;241m=\u001b[39m \u001b[38;5;241m0\u001b[39m\n",
      "\u001b[1;31mModuleNotFoundError\u001b[0m: No module named 'school_scores'"
     ]
    }
   ],
   "source": [
    "''' Direct Download: your findings '''\n",
    "import school_scores\n",
    "record = school_scores.get_record()\n",
    "\n",
    "vCount = 0\n",
    "low_math = 0\n",
    "low_verbal = 0\n",
    "\n",
    "high_math = 0\n",
    "high_verbal = 0\n",
    "\n",
    "for num in range(0, 577):\n",
    "    if record[num]['State']['Name'] == 'Virginia':\n",
    "        vCount += 1\n",
    "        low_math += record[num]['Family Income']['Between 20-40k']['Math']\n",
    "        low_verbal += record[num]['Family Income']['Between 20-40k']['Verbal']\n",
    "    \n",
    "        high_math += record[num]['Family Income']['More than 100k']['Math']\n",
    "        high_verbal += record[num]['Family Income']['More than 100k']['Verbal']\n",
    "\n",
    "\n",
    "\n",
    "low_math_avg = round(low_math/vCount)\n",
    "low_verbal_avg = round(low_verbal/vCount)\n",
    "\n",
    "high_math_avg = round(high_math/vCount)\n",
    "high_verbal_avg = round(high_verbal/vCount)\n",
    "\n",
    "math_difference = abs(high_math_avg - low_math_avg)\n",
    "verbal_difference = abs(high_verbal_avg - low_verbal_avg)\n",
    "\n",
    "low_total = low_math_avg + low_verbal_avg\n",
    "high_total = high_math_avg + high_verbal_avg\n",
    "\n",
    "\n",
    "print('The average SAT score for the lowest income bracket is ' +str(low_total))\n",
    "print('The average SAT score for the highest income bracket is ' +str(high_total))\n",
    "print()\n",
    "print('The average math score for the lowest income bracket is ' + str(low_math_avg))\n",
    "print('The average verbal score for the lowest income bracket is ' + str(low_verbal_avg))\n",
    "print()\n",
    "print('The average math score for the highest income bracket is ' + str(high_math_avg))\n",
    "print('The average verbal score for the highest income bracket is ' + str(high_verbal_avg))\n",
    "print()\n",
    "if low_math_avg > high_math_avg:\n",
    "    print('On average, the students from a lower family income scored higher by ' + str(math_difference) + ' points in the math portion of the SAT.')\n",
    "else:\n",
    "    print('On average, the students from a lower family income scored lower by ' + str(math_difference) + ' points in the math portion of the SAT.')\n",
    "print()\n",
    "if low_math_avg > high_math_avg:\n",
    "    print('On average, the students from a lower family income scored higher by ' + str(verbal_difference) + ' points in the reading portion of the SAT.')\n",
    "else:\n",
    "    print('On average, the students from a lower family income scored lower by ' + str(verbal_difference) + ' points in the reading poriton of the SAT.')"
   ]
  },
  {
   "cell_type": "code",
   "execution_count": 23,
   "metadata": {},
   "outputs": [
    {
     "data": {
      "image/png": "[encoded data removed]",
      "text/plain": [
       "<Figure size 640x480 with 1 Axes>"
      ]
     },
     "metadata": {},
     "output_type": "display_data"
    }
   ],
   "source": [
    "''' Visualization: '''\n",
    "import matplotlib.pyplot as plt\n",
    "\n",
    "items = ['bronzer', 'blush', 'lip\\nliner', 'foundation', 'eye\\nshadow', 'eyeliner', 'nail\\npolish', 'lipsitck', 'mascara']\n",
    "#values is avg_list\n",
    "\n",
    "plt.bar(items, avg_list)\n",
    "plt.xlabel(\"Maybelline Items\", fontsize=10)\n",
    "plt.ylabel(\"Prices ($)\", fontsize=10)\n",
    "plt.title(\"Average Makeup Price Comparison\")\n",
    "plt.tick_params(axis='x', labelsize=8)\n",
    "plt.show()"
   ]
  },
  {
   "cell_type": "markdown",
   "metadata": {},
   "source": [
    "**Visual Description:** \n",
    "The graph has nine bars for each of the nine categories of makeup along the x-axis. Along the y-axis is the avg prices of each item from 0, 14. Each bar for each category is exactly at said categories average price.\n",
    "\n",
    "**Visual Discussion:** \n",
    "With the graph you can clearly see the cheapest item, and while other items come close, you can see the most expensive item. The graph also shows whatever comparison someone would want to make between any item of their choosing, in a simple manor."
   ]
  },
  {
   "cell_type": "markdown",
   "metadata": {},
   "source": [
    "**Feedback Response:** \n",
    "\"How does weather affect clothing sales. This might be very difficult to research other than the quartely sales.\"\n",
    "\n",
    "One big theme during my peer review was how difficult it would be to answer some of my questions due to data I'd be able to find and the coding of it all in general. In response to this feedback alongside others, I changed my webscraping question completely, and instead focused on the comparison of Twitter topics.\n",
    "\n",
    "This change occurs in cell 5 and just consists of a change in my url website."
   ]
  }
 ],
 "metadata": {
  "kernelspec": {
   "display_name": "Python 3 (ipykernel)",
   "language": "python",
   "name": "python3"
  },
  "language_info": {
   "codemirror_mode": {
    "name": "ipython",
    "version": 3
   },
   "file_extension": ".py",
   "mimetype": "text/x-python",
   "name": "python",
   "nbconvert_exporter": "python",
   "pygments_lexer": "ipython3",
   "version": "3.11.4"
  }
 },
 "nbformat": 4,
 "nbformat_minor": 4
}
